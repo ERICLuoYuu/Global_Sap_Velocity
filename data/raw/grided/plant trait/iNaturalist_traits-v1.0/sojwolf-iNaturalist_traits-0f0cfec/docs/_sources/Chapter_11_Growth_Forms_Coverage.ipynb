version https://git-lfs.github.com/spec/v1
oid sha256:75bffb54fe24f567db2b8bd7bb1d8adea7aa6c8114ff75726a943a196f0768cc
size 1910330
