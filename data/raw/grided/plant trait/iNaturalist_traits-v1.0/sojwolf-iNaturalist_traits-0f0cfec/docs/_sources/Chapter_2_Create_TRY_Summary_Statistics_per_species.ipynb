version https://git-lfs.github.com/spec/v1
oid sha256:535e38915f604f3096687bd5493d7b5f8a180f86eeb3993ac337f79b88d20736
size 41454
